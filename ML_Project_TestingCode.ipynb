{
  "nbformat": 4,
  "nbformat_minor": 0,
  "metadata": {
    "colab": {
      "provenance": [],
      "include_colab_link": true
    },
    "kernelspec": {
      "name": "python3",
      "display_name": "Python 3"
    },
    "language_info": {
      "name": "python"
    }
  },
  "cells": [
    {
      "cell_type": "markdown",
      "metadata": {
        "id": "view-in-github",
        "colab_type": "text"
      },
      "source": [
        "<a href=\"https://colab.research.google.com/github/ClementineAccount/Albuquerque/blob/main/ML_Project_TestingCode.ipynb\" target=\"_parent\"><img src=\"https://colab.research.google.com/assets/colab-badge.svg\" alt=\"Open In Colab\"/></a>"
      ]
    },
    {
      "cell_type": "markdown",
      "source": [
        "My attempt to follow along with: https://www.kaggle.com/code/manthansolanki/image-classification-with-mnist-dataset/notebook"
      ],
      "metadata": {
        "id": "GX2UV78zpVse"
      }
    },
    {
      "cell_type": "markdown",
      "source": [
        "\n",
        "1. Import packages\n",
        "\n",
        "Let's first import all the packages that we will use during this tutorial.\n",
        "\n",
        "    Tensorflow is an end-to-end open source platform for machine learning.\n",
        "    Keras is an open-source library that provides a Python interface for artificial neural networks.\n",
        "    numpy is the main package for scientific computing with Python.\n",
        "    matplotlib is a library to plot graphs in Python.\n",
        "    open-cv is open computer vision library.\n",
        "\n"
      ],
      "metadata": {
        "id": "Eyza64iDpdqu"
      }
    },
    {
      "cell_type": "code",
      "source": [
        "import tensorflow as tf\n",
        "from tensorflow import keras\n",
        "import numpy as np\n",
        "import matplotlib.pyplot as plt\n",
        "from tensorflow.keras.preprocessing.image import load_img, img_to_array\n",
        "import cv2\n",
        "np.random.seed(42)                          # This allows us to reproduce the results from our script\n",
        "from keras.models import Sequential             \n",
        "from keras.layers import Dense, Activation\n",
        "from keras.optimizers import Adam, SGD\n",
        "from keras.utils import np_utils            # help us to transform our data later"
      ],
      "metadata": {
        "id": "LHl7pJW7pbZI"
      },
      "execution_count": null,
      "outputs": []
    },
    {
      "cell_type": "markdown",
      "source": [
        "# New Section"
      ],
      "metadata": {
        "id": "pzPIdhG_Cma4"
      }
    },
    {
      "cell_type": "markdown",
      "source": [
        "2. Load dataset\n",
        "MNIST Dataset\n",
        "\n",
        "The MNIST database is a large database of handwritten digits that is commonly used for training various image processing systems.\n",
        "This is a dataset of 60,000 28x28 grayscale images of the 10 digits, along with a test set of 10,000 images."
      ],
      "metadata": {
        "id": "9TY9lGs9qvgA"
      }
    },
    {
      "cell_type": "code",
      "source": [
        "(X_train, y_train), (X_test, y_test) = tf.keras.datasets.mnist.load_data()"
      ],
      "metadata": {
        "colab": {
          "base_uri": "https://localhost:8080/"
        },
        "id": "lmXYX0dYqxSp",
        "outputId": "238687a5-dfd1-45a9-a79d-fab9ad0da6af"
      },
      "execution_count": null,
      "outputs": [
        {
          "output_type": "stream",
          "name": "stdout",
          "text": [
            "Downloading data from https://storage.googleapis.com/tensorflow/tf-keras-datasets/mnist.npz\n",
            "11490434/11490434 [==============================] - 0s 0us/step\n"
          ]
        }
      ]
    },
    {
      "cell_type": "code",
      "source": [
        "print('Total no of Images: ',X_train.shape[0]) \n",
        "print('Size of Image:', X_train.shape[1:])\n",
        "print('Total no of labels:', y_train.shape)\n",
        "\n",
        "#look input data\n",
        "\n",
        "fig = plt.figure(figsize=(10, 7))\n",
        "\n",
        "fig.add_subplot(3, 3, 1)\n",
        "\n",
        "plt.imshow(X_train[0], cmap = plt.get_cmap('gray'))  # cmap - convert image into grascale\n",
        "print('Label:', y_train[0])\n",
        "\n",
        "#Curious what the other input data looks like\n",
        "\n",
        "fig.add_subplot(2, 2, 2)\n",
        "\n",
        "plt.imshow(X_train[1], cmap = plt.get_cmap('gray'))  # cmap - convert image into grascale\n",
        "print('Label:', y_train[1])\n",
        "\n",
        "\n",
        "fig.add_subplot(2, 2, 3)\n",
        "\n",
        "plt.imshow(X_test[0], cmap = plt.get_cmap('gray'))  # cmap - convert image into grascale\n",
        "print('Label:', y_train[0])\n",
        "\n",
        "#Curious what the other input data looks like\n",
        "\n",
        "fig.add_subplot(2, 2, 4)\n",
        "\n",
        "plt.imshow(X_test[1], cmap = plt.get_cmap('gray'))  # cmap - convert image into grascale\n",
        "print('Label:', y_train[1])\n",
        "\n",
        "#Oh I get it. The test data and training data are separate\n",
        "\n"
      ],
      "metadata": {
        "colab": {
          "base_uri": "https://localhost:8080/",
          "height": 554
        },
        "id": "LplYlKCprKpL",
        "outputId": "5011ae4b-bc89-4cd3-8b99-173b27e02a5b"
      },
      "execution_count": null,
      "outputs": [
        {
          "output_type": "stream",
          "name": "stdout",
          "text": [
            "Total no of Images:  60000\n",
            "Size of Image: (28, 28)\n",
            "Total no of labels: (60000,)\n",
            "Label: 5\n",
            "Label: 0\n",
            "Label: 5\n",
            "Label: 0\n"
          ]
        },
        {
          "output_type": "display_data",
          "data": {
            "text/plain": [
              "<Figure size 720x504 with 4 Axes>"
            ],
            "image/png": "[encoded data removed]"
          },
          "metadata": {
            "needs_background": "light"
          }
        }
      ]
    },
    {
      "cell_type": "markdown",
      "source": [
        "\n",
        "3. Prepare input data\n",
        "\n",
        "For a multi-layer perceptron model we must reduce the images down into a vector of pixels. In this case the 28×28 sized images will be 784 pixel input values.\n",
        "\n",
        "We can do this transform easily using the reshape() function on the NumPy array. We can also reduce our memory requirements by forcing the precision of the pixel values to be 32 bit.\n"
      ],
      "metadata": {
        "id": "DYXq6w1RsJFp"
      }
    },
    {
      "cell_type": "code",
      "source": [
        "\n",
        "fig.add_subplot(3, 3, 5)\n",
        "plt.imshow(X_train[0], cmap = plt.get_cmap('gray'))  # cmap - convert image into grascale\n",
        "\n",
        "#So this is just only one shape for the X_Train\n",
        "X_train = X_train.reshape((X_train.shape[0],-1))\n",
        "X_test = X_test.reshape((X_test.shape[0], -1))\n",
        "\n",
        "X_train = X_train.astype('float32')\n",
        "X_test = X_test.astype('float32')\n",
        "\n",
        "#print(X_train.shape, X_test.shape)"
      ],
      "metadata": {
        "colab": {
          "base_uri": "https://localhost:8080/",
          "height": 265
        },
        "id": "pKJ6WeSHsNNW",
        "outputId": "93662e6c-fbec-4b8c-9e57-44bc46817f8d"
      },
      "execution_count": null,
      "outputs": [
        {
          "output_type": "display_data",
          "data": {
            "text/plain": [
              "<Figure size 432x288 with 1 Axes>"
            ],
            "image/png": "[encoded data removed]"
          },
          "metadata": {
            "needs_background": "light"
          }
        }
      ]
    },
    {
      "cell_type": "markdown",
      "source": [
        "\n",
        "Normalize Input data¶\n",
        "\n",
        "The pixel values are gray scale between 0 and 255. It is almost always a good idea to perform some scaling of input values when using neural network models. Because the scale is well known and well behaved, we can very quickly normalize the pixel values to the range 0 and 1 by dividing each value by the maximum of 255."
      ],
      "metadata": {
        "id": "7w-xNAy1szj9"
      }
    },
    {
      "cell_type": "code",
      "source": [
        "\n",
        "X_test = X_test/255\n",
        "\n",
        "# print(X_train[0])\n",
        "\n",
        "X_train = X_train/255\n",
        "print(X_train[0])"
      ],
      "metadata": {
        "id": "dgJua7K1s4vN"
      },
      "execution_count": null,
      "outputs": []
    },
    {
      "cell_type": "code",
      "source": [
        "# One-hot encoding\n",
        "\n",
        "y_train = np_utils.to_categorical(y_train)\n",
        "y_test = np_utils.to_categorical(y_test)\n",
        "\n",
        "print(y_train.shape)"
      ],
      "metadata": {
        "colab": {
          "base_uri": "https://localhost:8080/"
        },
        "id": "lmep3sb5wBQS",
        "outputId": "27650337-1b31-458b-e7a2-1a903aa92c79"
      },
      "execution_count": null,
      "outputs": [
        {
          "output_type": "stream",
          "name": "stdout",
          "text": [
            "(60000, 10)\n"
          ]
        }
      ]
    },
    {
      "cell_type": "code",
      "source": [
        "num_classes = y_test.shape[1]\n",
        "num_pixels = 784"
      ],
      "metadata": {
        "id": "-micrtS-wFEd"
      },
      "execution_count": null,
      "outputs": []
    },
    {
      "cell_type": "markdown",
      "source": [
        "Where the real stuff happens...\n",
        "\n",
        "4. Define Model\n",
        "\n",
        "Input size of our model - 784 (28 x 28). There are 2 hidden layers with 256 and 64 neurons in each.\n",
        "\n",
        "In hidden layers, we will use relu activation function. And in final output layer, we'll use softmax activation function.\n",
        "Relu Function:\n",
        "\n",
        "The rectified linear activation function or ReLU for short is a piecewise linear function that will output the input directly if it is positive, otherwise, it will output zero.\n",
        "Softmax Function:\n",
        "\n",
        "The Softmax function that turns numbers aka logits into probabilities that sum to one. Softmax function outputs a vector that represents the probability distributions of a list of potential outcomes.\n",
        "\n",
        "relu-softmax.png"
      ],
      "metadata": {
        "id": "V-w0u4k3wIBc"
      }
    },
    {
      "cell_type": "code",
      "source": [
        "def baseline_model():\n",
        "    # create model\n",
        "    model = Sequential()\n",
        "    model.add(Dense(256, input_dim=num_pixels, activation='relu'))\n",
        "    model.add(Dense(64, activation='relu'))\n",
        "    model.add(Dense(num_classes, activation='softmax'))\n",
        "    \n",
        "    return model"
      ],
      "metadata": {
        "id": "uCkCLUVywfy2"
      },
      "execution_count": null,
      "outputs": []
    },
    {
      "cell_type": "code",
      "source": [
        "# build the model\n",
        "model = baseline_model()\n",
        "model.summary()"
      ],
      "metadata": {
        "colab": {
          "base_uri": "https://localhost:8080/"
        },
        "id": "lOvyj9-4wiiC",
        "outputId": "5773fd36-bade-49e3-d63d-1ad08d9812ab"
      },
      "execution_count": null,
      "outputs": [
        {
          "output_type": "stream",
          "name": "stdout",
          "text": [
            "Model: \"sequential\"\n",
            "_________________________________________________________________\n",
            " Layer (type)                Output Shape              Param #   \n",
            "=================================================================\n",
            " dense (Dense)               (None, 256)               200960    \n",
            "                                                                 \n",
            " dense_1 (Dense)             (None, 64)                16448     \n",
            "                                                                 \n",
            " dense_2 (Dense)             (None, 10)                650       \n",
            "                                                                 \n",
            "=================================================================\n",
            "Total params: 218,058\n",
            "Trainable params: 218,058\n",
            "Non-trainable params: 0\n",
            "_________________________________________________________________\n"
          ]
        }
      ]
    },
    {
      "cell_type": "code",
      "source": [
        "opt = SGD(lr = 0.001)\n",
        "model.compile(loss='categorical_crossentropy', optimizer= opt, metrics=['accuracy'])"
      ],
      "metadata": {
        "colab": {
          "base_uri": "https://localhost:8080/"
        },
        "id": "wIwuRapBw2LI",
        "outputId": "9d50e273-af57-4362-e6a6-e229c38db864"
      },
      "execution_count": null,
      "outputs": [
        {
          "output_type": "stream",
          "name": "stderr",
          "text": [
            "/usr/local/lib/python3.9/dist-packages/keras/optimizers/optimizer_v2/gradient_descent.py:114: UserWarning: The `lr` argument is deprecated, use `learning_rate` instead.\n",
            "  super().__init__(name, **kwargs)\n"
          ]
        }
      ]
    },
    {
      "cell_type": "code",
      "source": [
        "model.fit(X_train, y_train, epochs=5, batch_size=32, verbose=1)"
      ],
      "metadata": {
        "colab": {
          "base_uri": "https://localhost:8080/"
        },
        "id": "3WR-Kx1Txlvc",
        "outputId": "90106cee-ae8a-45be-8c17-b058a1b816a6"
      },
      "execution_count": null,
      "outputs": [
        {
          "output_type": "stream",
          "name": "stdout",
          "text": [
            "Epoch 1/5\n",
            "1875/1875 [==============================] - 10s 5ms/step - loss: 1.8023 - accuracy: 0.5204\n",
            "Epoch 2/5\n",
            "1875/1875 [==============================] - 9s 5ms/step - loss: 0.9388 - accuracy: 0.7870\n",
            "Epoch 3/5\n",
            "1875/1875 [==============================] - 8s 4ms/step - loss: 0.6253 - accuracy: 0.8459\n",
            "Epoch 4/5\n",
            "1875/1875 [==============================] - 8s 4ms/step - loss: 0.5033 - accuracy: 0.8713\n",
            "Epoch 5/5\n",
            "1875/1875 [==============================] - 7s 4ms/step - loss: 0.4384 - accuracy: 0.8852\n"
          ]
        },
        {
          "output_type": "execute_result",
          "data": {
            "text/plain": [
              "<keras.callbacks.History at 0x7fd580447610>"
            ]
          },
          "metadata": {},
          "execution_count": 44
        }
      ]
    },
    {
      "cell_type": "code",
      "source": [
        "\n",
        "scores = model.evaluate(X_test, y_test, verbose=1)\n",
        "print(\"Error: %.2f%%\" % (100-scores[1]*100))"
      ],
      "metadata": {
        "colab": {
          "base_uri": "https://localhost:8080/"
        },
        "id": "oRvKR00s1Wi3",
        "outputId": "88dc8ba5-bc21-426f-ad3d-ff7e6b92b1f6"
      },
      "execution_count": null,
      "outputs": [
        {
          "output_type": "stream",
          "name": "stdout",
          "text": [
            "313/313 [==============================] - 1s 2ms/step - loss: 0.3960 - accuracy: 0.8987\n",
            "Error: 10.13%\n"
          ]
        }
      ]
    },
    {
      "cell_type": "code",
      "source": [
        "#Try the image given to see\n",
        "\n",
        "img_width, img_height = 28, 28\n",
        "\n",
        "ii3 = cv2.imread(\"sample_data/5png.png\")\n",
        "\n",
        "gray_image3 = cv2.cvtColor(ii3, cv2.COLOR_BGR2GRAY)\n",
        "gray_image3.resize(img_width, img_height)\n",
        "\n",
        "# print(gray_image)\n",
        "plt.imshow(gray_image3,cmap='Greys')\n",
        "plt.show()\n",
        "# gray_image.shape\n",
        "x_seven = np.expand_dims(gray_image3, axis=0)\n",
        "x_seven = x_seven.reshape((1, -1))\n"
      ],
      "metadata": {
        "colab": {
          "base_uri": "https://localhost:8080/",
          "height": 265
        },
        "id": "a1-RmiiN1aoO",
        "outputId": "d6669cc9-1281-4298-b793-15c91559a0fe"
      },
      "execution_count": null,
      "outputs": [
        {
          "output_type": "display_data",
          "data": {
            "text/plain": [
              "<Figure size 432x288 with 1 Axes>"
            ],
            "image/png": "[encoded data removed]"
          },
          "metadata": {
            "needs_background": "light"
          }
        }
      ]
    },
    {
      "cell_type": "code",
      "source": [
        "\n",
        "predictions = np.argmax(model.predict(x_seven),axis=1)\n",
        "#prob = model.predict_proba(x)\n",
        "\n",
        "\n",
        "print('Predicted value is ',predictions[0])\n",
        "#print('Probability across all numbers :', prob)"
      ],
      "metadata": {
        "colab": {
          "base_uri": "https://localhost:8080/"
        },
        "id": "YLgqrokN3-gY",
        "outputId": "238d818a-4292-4d6e-ba56-3ca776d4fa8b"
      },
      "execution_count": null,
      "outputs": [
        {
          "output_type": "stream",
          "name": "stdout",
          "text": [
            "1/1 [==============================] - 0s 25ms/step\n",
            "Predicted value is  5\n"
          ]
        }
      ]
    }
  ]
}